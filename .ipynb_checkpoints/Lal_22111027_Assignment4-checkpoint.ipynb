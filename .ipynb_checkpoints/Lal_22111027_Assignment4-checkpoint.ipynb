{
 "cells": [
  {
   "cell_type": "code",
   "execution_count": 3,
   "id": "a35a05ed",
   "metadata": {},
   "outputs": [],
   "source": [
    "# ##Import VTK\n",
    "# from vtk import *\n",
    "# import random\n",
    "# import vtk\n",
    "# import numpy as np\n",
    "# import scipy.interpolate\n",
    "# import time"
   ]
  },
  {
   "cell_type": "code",
   "execution_count": 4,
   "id": "1b39c862",
   "metadata": {},
   "outputs": [],
   "source": [
    "# ##Loading dataset using vtkXMLImageDataReader() and created a data object from readers output\n",
    "\n",
    "# reader = vtkXMLImageDataReader() \n",
    "# reader.SetFileName('Isabel_3D.vti') \n",
    "# reader.Update() \n",
    "# data = reader.GetOutput()\n",
    "# # print(data)"
   ]
  },
  {
   "cell_type": "code",
   "execution_count": 5,
   "id": "67361207",
   "metadata": {},
   "outputs": [
    {
     "name": "stdout",
     "output_type": "stream",
     "text": [
      "3125000\n"
     ]
    }
   ],
   "source": [
    "# nOfPoints = data.GetNumberOfPoints()\n",
    "# print(nOfPoints)\n",
    "# dataArr = data.GetPointData().GetArray('Pressure')\n",
    "# lst = []\n",
    "# for i in range(nOfPoints):\n",
    "#     s = dataArr.GetTuple1(i)\n",
    "#     lst.append(s)"
   ]
  },
  {
   "cell_type": "code",
   "execution_count": 6,
   "id": "c4b1a938",
   "metadata": {},
   "outputs": [],
   "source": [
    "# def simpleRandomSampling(data, samplingRate):\n",
    "#     list = []\n",
    "#     for i in range (int(nOfPoints*0.1)):\n",
    "#         index = random.randint(0, nOfPoints - 1)\n",
    "#         list.append(index)  \n",
    "        \n",
    "# #     print(list)\n",
    "    \n",
    "#     # Create a new VTK poly data object to store the sampled points\n",
    "#     polyData = vtkPolyData()\n",
    "    \n",
    "#     # Create a points object to store the point coordinates\n",
    "#     points = vtkPoints()\n",
    "    \n",
    "#     # Create an array to store the data values for each point\n",
    "#     dataValues = vtkFloatArray()\n",
    "#     dataValues.SetName(\"Data\")\n",
    "    \n",
    "#     # Add the sampled points and their corresponding data values to the PolyData object\n",
    "#     for i in list:\n",
    "#         points.InsertNextPoint(data.GetPoint(i))\n",
    "#         dataValue = dataArr.GetTuple1(i)\n",
    "#         dataValues.InsertNextValue(dataValue)\n",
    "        \n",
    "#     # Set the points and data array for the poly data object\n",
    "#     polyData.SetPoints(points)\n",
    "#     polyData.GetPointData().SetScalars(dataValues)\n",
    "#     # Write the sampled points to a VTKPolyData file\n",
    "#     writer = vtkXMLPolyDataWriter()\n",
    "#     writer.SetFileName('sampledPoints.vtp')\n",
    "#     writer.SetInputData(polyData)\n",
    "#     writer.Write()\n",
    "\n",
    "#     return polyData"
   ]
  },
  {
   "cell_type": "code",
   "execution_count": 7,
   "id": "dae7176b",
   "metadata": {},
   "outputs": [
    {
     "data": {
      "text/plain": [
       "(vtkmodules.vtkCommonDataModel.vtkPolyData)000001A471840940"
      ]
     },
     "execution_count": 7,
     "metadata": {},
     "output_type": "execute_result"
    }
   ],
   "source": [
    "# simpleRandomSampling(data, 1)"
   ]
  },
  {
   "cell_type": "code",
   "execution_count": 8,
   "id": "b2411369",
   "metadata": {},
   "outputs": [
    {
     "data": {
      "text/plain": [
       "1"
      ]
     },
     "execution_count": 8,
     "metadata": {},
     "output_type": "execute_result"
    }
   ],
   "source": [
    "# # Load the sampled point data from VTP file\n",
    "# reader = vtk.vtkXMLPolyDataReader()\n",
    "# reader.SetFileName('sampledPoints.vtp')\n",
    "# reader.Update()\n",
    "# data2 = reader.GetOutput()\n",
    "\n",
    "# points = np.array([data2.GetPoint(i) for i in range(data2.GetNumberOfPoints())])\n",
    "# values = np.array([data2.GetPointData().GetScalars().GetTuple1(i) for i in range(data2.GetNumberOfPoints())])\n",
    "\n",
    "# # Define the grid points for the reconstruction\n",
    "# grid_points = np.array([data.GetPoint(i) for i in range(data.GetNumberOfPoints())])\n",
    "\n",
    "# startTime = time.time()\n",
    "# # Reconstruct the volume using nearest interpolation\n",
    "# volume_nearest = scipy.interpolate.griddata(points, values, grid_points, method='nearest')\n",
    "# endTime = time.time()\n",
    "# # Save the reconstructed volume as a VTK file\n",
    "\n",
    "# volume_value = vtk.vtkFloatArray()\n",
    "# for i in volume_nearest:\n",
    "#     volume_value.InsertNextValue(i)\n",
    "\n",
    "\n",
    "# imageData = vtk.vtkImageData()\n",
    "# imageData.SetDimensions(250,250,50)\n",
    "# imageData.GetPointData().SetScalars(volume_value)\n",
    "# writer = vtk.vtkXMLImageDataWriter()\n",
    "# writer.SetFileName('reconstructed_volume_nearest.vti')\n",
    "\n",
    "# writer.SetInputData(imageData)\n",
    "# writer.Write()\n",
    "\n"
   ]
  },
  {
   "cell_type": "code",
   "execution_count": 9,
   "id": "3702a159",
   "metadata": {},
   "outputs": [
    {
     "data": {
      "text/plain": [
       "36.79205468349337"
      ]
     },
     "execution_count": 9,
     "metadata": {},
     "output_type": "execute_result"
    }
   ],
   "source": [
    "# arrgt = np.array(lst)\n",
    "# arr_recon = np.array(volume_nearest)\n",
    "# def compute_SNR(arrgt,arr_recon):\n",
    "#     diff =  arrgt - arr_recon\n",
    "#     sqd_max_diff = (np.max(arrgt) - np.min(arrgt))**2\n",
    "#     snr = 10*np.log10(sqd_max_diff/np.mean(diff**2))\n",
    "#     return snr\n",
    "# compute_SNR(arrgt, arr_recon)"
   ]
  },
  {
   "cell_type": "code",
   "execution_count": 10,
   "id": "3ce81828",
   "metadata": {},
   "outputs": [
    {
     "name": "stdout",
     "output_type": "stream",
     "text": [
      "8.638364791870117\n"
     ]
    }
   ],
   "source": [
    "# # print(startTime)\n",
    "# print(endTime-startTime)"
   ]
  },
  {
   "cell_type": "code",
   "execution_count": 4,
   "id": "736b7eb1",
   "metadata": {},
   "outputs": [
    {
     "name": "stdout",
     "output_type": "stream",
     "text": [
      "Input Sampling percentage:5\n",
      "Enter Method, nearest or linear :linear\n",
      "40.29183796209195\n",
      "369.40185832977295\n"
     ]
    }
   ],
   "source": [
    "##Import VTK\n",
    "from vtk import *\n",
    "import random\n",
    "import vtk\n",
    "import numpy as np\n",
    "import scipy.interpolate\n",
    "import time\n",
    "\n",
    "##Loading dataset\n",
    "\n",
    "reader = vtkXMLImageDataReader() \n",
    "reader.SetFileName('Isabel_3D.vti') \n",
    "reader.Update() \n",
    "data = reader.GetOutput()\n",
    "# print(data)\n",
    "\n",
    "nOfPoints = data.GetNumberOfPoints()\n",
    "#print(nOfPoints)\n",
    "dataArr = data.GetPointData().GetArray('Pressure')\n",
    "lst = []\n",
    "for i in range(nOfPoints):\n",
    "    s = dataArr.GetTuple1(i)\n",
    "    lst.append(s)\n",
    "\n",
    "def simpleRandomSampling(data, samplingPercentage):\n",
    "    list = [0, 249, 62250, 62499, 3062500, 3062749, 3124750, 3124999]\n",
    "    for i in range (int(nOfPoints*samplingPercentage)-8):\n",
    "        index = random.randint(0, nOfPoints - 1)\n",
    "        list.append(index)\n",
    "        \n",
    "       \n",
    "    \n",
    "    # Creating a new VTK polydata object \n",
    "    polyData = vtkPolyData()\n",
    "    \n",
    "    # Creating a points object\n",
    "    points = vtkPoints()\n",
    "    \n",
    "    # Creating an array \n",
    "    dataValues = vtkFloatArray()\n",
    "    dataValues.SetName(\"Data\")\n",
    "    \n",
    "    for i in list:\n",
    "        points.InsertNextPoint(data.GetPoint(i))\n",
    "        dataValue = dataArr.GetTuple1(i)\n",
    "        dataValues.InsertNextValue(dataValue)\n",
    "        \n",
    "    # Set the points and data array for the poly data object\n",
    "    polyData.SetPoints(points)\n",
    "    polyData.GetPointData().SetScalars(dataValues)\n",
    "    # Write the sampled points to a VTKPolyData file\n",
    "    writer = vtkXMLPolyDataWriter()\n",
    "    writer.SetFileName('sampledPoints.vtp')\n",
    "    writer.SetInputData(polyData)\n",
    "    writer.Write()\n",
    "\n",
    "    return polyData\n",
    "\n",
    "samplingPercentage = int(input(\"Input Sampling percentage:\"))\n",
    "samplingPercentage *= 0.01\n",
    "simpleRandomSampling(data, samplingPercentage)\n",
    "\n",
    "method = input(\"Enter Method, nearest or linear :\")\n",
    "\n",
    "def reconstructVolume(data, method):\n",
    "    # Loading the sampled point data from VTP file\n",
    "    reader = vtk.vtkXMLPolyDataReader()\n",
    "    reader.SetFileName('sampledPoints.vtp')\n",
    "    reader.Update()\n",
    "    data2 = reader.GetOutput()\n",
    "\n",
    "    points = np.array([data2.GetPoint(i) for i in range(data2.GetNumberOfPoints())])\n",
    "    values = np.array([data2.GetPointData().GetScalars().GetTuple1(i) for i in range(data2.GetNumberOfPoints())])\n",
    "\n",
    "    # Define the grid points for the reconstruction\n",
    "    grid_points = np.array([data.GetPoint(i) for i in range(data.GetNumberOfPoints())])\n",
    "\n",
    "    startTime = time.time()\n",
    "\n",
    "    # Reconstruct the volume using nearest interpolation\n",
    "    volume_nearest = scipy.interpolate.griddata(points, values, grid_points, method=method)\n",
    "\n",
    "    endTime = time.time()\n",
    "\n",
    "    # Save the reconstructed volume as a VTK file\n",
    "\n",
    "    volume_value = vtk.vtkFloatArray()\n",
    "    for i in volume_nearest:\n",
    "        volume_value.InsertNextValue(i)\n",
    "\n",
    "\n",
    "    imageData = vtk.vtkImageData()\n",
    "    imageData.SetDimensions(250,250,50)\n",
    "    imageData.SetOrigin(0,0,0)\n",
    "    imageData.GetPointData().SetScalars(volume_value)\n",
    "    writer = vtk.vtkXMLImageDataWriter()\n",
    "    writer.SetFileName('reconstructed_volume_nearest.vti')\n",
    "\n",
    "    writer.SetInputData(imageData)\n",
    "    writer.Write()\n",
    "\n",
    "    #computing SNR value\n",
    "    arrgt = np.array(lst)\n",
    "    arr_recon = np.array(volume_nearest)\n",
    "    def compute_SNR(arrgt,arr_recon):\n",
    "        diff =  arrgt - arr_recon\n",
    "        sqd_max_diff = (np.max(arrgt) - np.min(arrgt))**2\n",
    "        snr = 10*np.log10(sqd_max_diff/np.mean(diff**2))\n",
    "        return snr\n",
    "    snrValue = compute_SNR(arrgt, arr_recon)\n",
    "    print(snrValue)\n",
    "    print(endTime - startTime)\n",
    "reconstructVolume(data,method)\n",
    "\n",
    "\n",
    "\n",
    "\n",
    "\n"
   ]
  },
  {
   "cell_type": "code",
   "execution_count": null,
   "id": "b4fd70b1",
   "metadata": {},
   "outputs": [],
   "source": []
  }
 ],
 "metadata": {
  "kernelspec": {
   "display_name": "Python 3 (ipykernel)",
   "language": "python",
   "name": "python3"
  },
  "language_info": {
   "codemirror_mode": {
    "name": "ipython",
    "version": 3
   },
   "file_extension": ".py",
   "mimetype": "text/x-python",
   "name": "python",
   "nbconvert_exporter": "python",
   "pygments_lexer": "ipython3",
   "version": "3.9.13"
  }
 },
 "nbformat": 4,
 "nbformat_minor": 5
}
