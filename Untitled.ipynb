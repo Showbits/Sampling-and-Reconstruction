{
 "cells": [
  {
   "cell_type": "code",
   "execution_count": 5,
   "id": "20d89d55",
   "metadata": {},
   "outputs": [
    {
     "ename": "TypeError",
     "evalue": "ComputeStructuredCoordinates() takes exactly 3 arguments (2 given)",
     "output_type": "error",
     "traceback": [
      "\u001b[1;31m---------------------------------------------------------------------------\u001b[0m",
      "\u001b[1;31mTypeError\u001b[0m                                 Traceback (most recent call last)",
      "\u001b[1;32m~\\AppData\\Local\\Temp\\ipykernel_12360\\3992987390.py\u001b[0m in \u001b[0;36m<module>\u001b[1;34m\u001b[0m\n\u001b[0;32m     27\u001b[0m     \u001b[0mpoint\u001b[0m \u001b[1;33m=\u001b[0m \u001b[0mvolume\u001b[0m\u001b[1;33m.\u001b[0m\u001b[0mGetPoint\u001b[0m\u001b[1;33m(\u001b[0m\u001b[0mindex\u001b[0m\u001b[1;33m)\u001b[0m\u001b[1;33m\u001b[0m\u001b[1;33m\u001b[0m\u001b[0m\n\u001b[0;32m     28\u001b[0m     \u001b[0mijk\u001b[0m \u001b[1;33m=\u001b[0m \u001b[1;33m[\u001b[0m\u001b[1;36m0\u001b[0m\u001b[1;33m,\u001b[0m \u001b[1;36m0\u001b[0m\u001b[1;33m,\u001b[0m \u001b[1;36m0\u001b[0m\u001b[1;33m]\u001b[0m\u001b[1;33m\u001b[0m\u001b[1;33m\u001b[0m\u001b[0m\n\u001b[1;32m---> 29\u001b[1;33m     \u001b[0mvolume\u001b[0m\u001b[1;33m.\u001b[0m\u001b[0mComputeStructuredCoordinates\u001b[0m\u001b[1;33m(\u001b[0m\u001b[0mpoint\u001b[0m\u001b[1;33m,\u001b[0m \u001b[0mijk\u001b[0m\u001b[1;33m)\u001b[0m\u001b[1;33m\u001b[0m\u001b[1;33m\u001b[0m\u001b[0m\n\u001b[0m\u001b[0;32m     30\u001b[0m     \u001b[0mvalue\u001b[0m \u001b[1;33m=\u001b[0m \u001b[0mvolume\u001b[0m\u001b[1;33m.\u001b[0m\u001b[0mGetScalarComponentAsDouble\u001b[0m\u001b[1;33m(\u001b[0m\u001b[0mijk\u001b[0m\u001b[1;33m[\u001b[0m\u001b[1;36m0\u001b[0m\u001b[1;33m]\u001b[0m\u001b[1;33m,\u001b[0m \u001b[0mijk\u001b[0m\u001b[1;33m[\u001b[0m\u001b[1;36m1\u001b[0m\u001b[1;33m]\u001b[0m\u001b[1;33m,\u001b[0m \u001b[0mijk\u001b[0m\u001b[1;33m[\u001b[0m\u001b[1;36m2\u001b[0m\u001b[1;33m]\u001b[0m\u001b[1;33m,\u001b[0m \u001b[1;36m0\u001b[0m\u001b[1;33m)\u001b[0m\u001b[1;33m\u001b[0m\u001b[1;33m\u001b[0m\u001b[0m\n\u001b[0;32m     31\u001b[0m     \u001b[0msampled_points\u001b[0m\u001b[1;33m.\u001b[0m\u001b[0mappend\u001b[0m\u001b[1;33m(\u001b[0m\u001b[1;33m(\u001b[0m\u001b[0mpoint\u001b[0m\u001b[1;33m,\u001b[0m \u001b[0mvalue\u001b[0m\u001b[1;33m)\u001b[0m\u001b[1;33m)\u001b[0m\u001b[1;33m\u001b[0m\u001b[1;33m\u001b[0m\u001b[0m\n",
      "\u001b[1;31mTypeError\u001b[0m: ComputeStructuredCoordinates() takes exactly 3 arguments (2 given)"
     ]
    }
   ],
   "source": [
    "import vtk\n",
    "import random\n",
    "\n",
    "# Load the volume data from file\n",
    "reader = vtk.vtkXMLImageDataReader()\n",
    "reader.SetFileName(\"Isabel_3D.vti\")\n",
    "reader.Update()\n",
    "volume = reader.GetOutput()\n",
    "\n",
    "# Set the sampling percentage\n",
    "sampling_percentage = 0.1\n",
    "\n",
    "# Initialize the sampled points list with the eight corner points\n",
    "sampled_points = []\n",
    "for i in [0, volume.GetDimensions()[0]-1]:\n",
    "    for j in [0, volume.GetDimensions()[1]-1]:\n",
    "        for k in [0, volume.GetDimensions()[2]-1]:\n",
    "            point = [i, j, k]\n",
    "            value = volume.GetScalarComponentAsDouble(i, j, k, 0)\n",
    "            sampled_points.append((point, value))\n",
    "\n",
    "# Perform SRS on the remaining points\n",
    "num_points = volume.GetNumberOfPoints() - 8\n",
    "num_samples = int(num_points * sampling_percentage)\n",
    "indices = random.sample(range(8, num_points+8), num_samples)\n",
    "for index in indices:\n",
    "    point = volume.GetPoint(index)\n",
    "    ijk = [0, 0, 0]\n",
    "    volume.ComputeStructuredCoordinates(point, ijk)\n",
    "    value = volume.GetScalarComponentAsDouble(ijk[0], ijk[1], ijk[2], 0)\n",
    "    sampled_points.append((point, value))\n",
    "\n",
    "# Save the sampled points to a VTKPolyData file\n",
    "points = vtk.vtkPoints()\n",
    "scalars = vtk.vtkFloatArray()\n",
    "scalars.SetNumberOfComponents(1)\n",
    "for point, value in sampled_points:\n",
    "    points.InsertNextPoint(point)\n",
    "    scalars.InsertNextValue(value)\n",
    "\n",
    "polydata = vtk.vtkPolyData()\n",
    "polydata.SetPoints(points)\n",
    "polydata.GetPointData().SetScalars(scalars)\n",
    "\n",
    "writer = vtk.vtkXMLPolyDataWriter()\n",
    "writer.SetFileName(\"sampled_points.vtp\")\n",
    "writer.SetInputData(polydata)\n",
    "writer.Write()\n"
   ]
  },
  {
   "cell_type": "code",
   "execution_count": null,
   "id": "3bab8118",
   "metadata": {},
   "outputs": [],
   "source": []
  }
 ],
 "metadata": {
  "kernelspec": {
   "display_name": "Python 3 (ipykernel)",
   "language": "python",
   "name": "python3"
  },
  "language_info": {
   "codemirror_mode": {
    "name": "ipython",
    "version": 3
   },
   "file_extension": ".py",
   "mimetype": "text/x-python",
   "name": "python",
   "nbconvert_exporter": "python",
   "pygments_lexer": "ipython3",
   "version": "3.9.13"
  }
 },
 "nbformat": 4,
 "nbformat_minor": 5
}
